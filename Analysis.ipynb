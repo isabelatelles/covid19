{
 "cells": [
  {
   "cell_type": "code",
   "execution_count": 4,
   "metadata": {},
   "outputs": [],
   "source": [
    "import pandas as pd\n",
    "import matplotlib as mpl\n",
    "import seaborn as sns\n",
    "import matplotlib.pyplot as plt\n",
    "%matplotlib inline\n",
    "import seaborn as sns\n",
    "from sklearn.preprocessing import LabelEncoder\n",
    "import numpy as np"
   ]
  },
  {
   "cell_type": "markdown",
   "metadata": {},
   "source": [
    "## Fixing columns"
   ]
  },
  {
   "cell_type": "code",
   "execution_count": 5,
   "metadata": {},
   "outputs": [],
   "source": [
    "dataset = pd.read_excel('dataset.xlsx', index_col=0)"
   ]
  },
  {
   "cell_type": "code",
   "execution_count": 6,
   "metadata": {},
   "outputs": [],
   "source": [
    "dataset['Urine - pH'].replace('Não Realizado', np.nan, inplace=True)"
   ]
  },
  {
   "cell_type": "code",
   "execution_count": 7,
   "metadata": {},
   "outputs": [],
   "source": [
    "dataset.replace('not_done', np.nan, inplace=True)"
   ]
  },
  {
   "cell_type": "code",
   "execution_count": 8,
   "metadata": {},
   "outputs": [],
   "source": [
    "dataset['Urine - Leukocytes'].replace('<1000', '999', inplace=True)"
   ]
  },
  {
   "cell_type": "code",
   "execution_count": 9,
   "metadata": {},
   "outputs": [],
   "source": [
    "dataset.replace('not_detected', 0, inplace=True)\n",
    "dataset.replace('detected', 0, inplace=True)\n",
    "dataset.replace('negative', 0, inplace=True)\n",
    "dataset.replace('positive', 1, inplace=True)\n",
    "dataset.replace('absent', 0, inplace=True)\n",
    "dataset.replace('present', 1, inplace=True)"
   ]
  },
  {
   "cell_type": "code",
   "execution_count": 17,
   "metadata": {},
   "outputs": [
    {
     "data": {
      "text/html": [
       "<div>\n",
       "<style scoped>\n",
       "    .dataframe tbody tr th:only-of-type {\n",
       "        vertical-align: middle;\n",
       "    }\n",
       "\n",
       "    .dataframe tbody tr th {\n",
       "        vertical-align: top;\n",
       "    }\n",
       "\n",
       "    .dataframe thead th {\n",
       "        text-align: right;\n",
       "    }\n",
       "</style>\n",
       "<table border=\"1\" class=\"dataframe\">\n",
       "  <thead>\n",
       "    <tr style=\"text-align: right;\">\n",
       "      <th></th>\n",
       "      <th>Urine - Aspect</th>\n",
       "      <th>Urine - Urobilinogen</th>\n",
       "      <th>Urine - Crystals</th>\n",
       "      <th>Urine - Color</th>\n",
       "    </tr>\n",
       "    <tr>\n",
       "      <th>Patient ID</th>\n",
       "      <th></th>\n",
       "      <th></th>\n",
       "      <th></th>\n",
       "      <th></th>\n",
       "    </tr>\n",
       "  </thead>\n",
       "  <tbody>\n",
       "    <tr>\n",
       "      <th>44477f75e8169d2</th>\n",
       "      <td>NaN</td>\n",
       "      <td>NaN</td>\n",
       "      <td>NaN</td>\n",
       "      <td>NaN</td>\n",
       "    </tr>\n",
       "    <tr>\n",
       "      <th>126e9dd13932f68</th>\n",
       "      <td>NaN</td>\n",
       "      <td>NaN</td>\n",
       "      <td>NaN</td>\n",
       "      <td>NaN</td>\n",
       "    </tr>\n",
       "    <tr>\n",
       "      <th>a46b4402a0e5696</th>\n",
       "      <td>NaN</td>\n",
       "      <td>NaN</td>\n",
       "      <td>NaN</td>\n",
       "      <td>NaN</td>\n",
       "    </tr>\n",
       "    <tr>\n",
       "      <th>f7d619a94f97c45</th>\n",
       "      <td>NaN</td>\n",
       "      <td>NaN</td>\n",
       "      <td>NaN</td>\n",
       "      <td>NaN</td>\n",
       "    </tr>\n",
       "    <tr>\n",
       "      <th>d9e41465789c2b5</th>\n",
       "      <td>NaN</td>\n",
       "      <td>NaN</td>\n",
       "      <td>NaN</td>\n",
       "      <td>NaN</td>\n",
       "    </tr>\n",
       "    <tr>\n",
       "      <th>...</th>\n",
       "      <td>...</td>\n",
       "      <td>...</td>\n",
       "      <td>...</td>\n",
       "      <td>...</td>\n",
       "    </tr>\n",
       "    <tr>\n",
       "      <th>ae66feb9e4dc3a0</th>\n",
       "      <td>NaN</td>\n",
       "      <td>NaN</td>\n",
       "      <td>NaN</td>\n",
       "      <td>NaN</td>\n",
       "    </tr>\n",
       "    <tr>\n",
       "      <th>517c2834024f3ea</th>\n",
       "      <td>NaN</td>\n",
       "      <td>NaN</td>\n",
       "      <td>NaN</td>\n",
       "      <td>NaN</td>\n",
       "    </tr>\n",
       "    <tr>\n",
       "      <th>5c57d6037fe266d</th>\n",
       "      <td>NaN</td>\n",
       "      <td>NaN</td>\n",
       "      <td>NaN</td>\n",
       "      <td>NaN</td>\n",
       "    </tr>\n",
       "    <tr>\n",
       "      <th>c20c44766f28291</th>\n",
       "      <td>clear</td>\n",
       "      <td>normal</td>\n",
       "      <td>Ausentes</td>\n",
       "      <td>yellow</td>\n",
       "    </tr>\n",
       "    <tr>\n",
       "      <th>2697fdccbfeb7f7</th>\n",
       "      <td>NaN</td>\n",
       "      <td>NaN</td>\n",
       "      <td>NaN</td>\n",
       "      <td>NaN</td>\n",
       "    </tr>\n",
       "  </tbody>\n",
       "</table>\n",
       "<p>5644 rows × 4 columns</p>\n",
       "</div>"
      ],
      "text/plain": [
       "                Urine - Aspect Urine - Urobilinogen Urine - Crystals  \\\n",
       "Patient ID                                                             \n",
       "44477f75e8169d2            NaN                  NaN              NaN   \n",
       "126e9dd13932f68            NaN                  NaN              NaN   \n",
       "a46b4402a0e5696            NaN                  NaN              NaN   \n",
       "f7d619a94f97c45            NaN                  NaN              NaN   \n",
       "d9e41465789c2b5            NaN                  NaN              NaN   \n",
       "...                        ...                  ...              ...   \n",
       "ae66feb9e4dc3a0            NaN                  NaN              NaN   \n",
       "517c2834024f3ea            NaN                  NaN              NaN   \n",
       "5c57d6037fe266d            NaN                  NaN              NaN   \n",
       "c20c44766f28291          clear               normal         Ausentes   \n",
       "2697fdccbfeb7f7            NaN                  NaN              NaN   \n",
       "\n",
       "                Urine - Color  \n",
       "Patient ID                     \n",
       "44477f75e8169d2           NaN  \n",
       "126e9dd13932f68           NaN  \n",
       "a46b4402a0e5696           NaN  \n",
       "f7d619a94f97c45           NaN  \n",
       "d9e41465789c2b5           NaN  \n",
       "...                       ...  \n",
       "ae66feb9e4dc3a0           NaN  \n",
       "517c2834024f3ea           NaN  \n",
       "5c57d6037fe266d           NaN  \n",
       "c20c44766f28291        yellow  \n",
       "2697fdccbfeb7f7           NaN  \n",
       "\n",
       "[5644 rows x 4 columns]"
      ]
     },
     "execution_count": 17,
     "metadata": {},
     "output_type": "execute_result"
    }
   ],
   "source": [
    "dataset[['Urine - Aspect', 'Urine - Urobilinogen', 'Urine - Crystals', 'Urine - Color']]"
   ]
  },
  {
   "cell_type": "code",
   "execution_count": 20,
   "metadata": {},
   "outputs": [],
   "source": [
    "df_temp = dataset[['Urine - Aspect', 'Urine - Urobilinogen', 'Urine - Crystals', 'Urine - Color']].astype(\"str\").apply(LabelEncoder().fit_transform)\n",
    "dataset[['Urine - Aspect', 'Urine - Urobilinogen', 'Urine - Crystals', 'Urine - Color']] = df_temp.where(~dataset[['Urine - Aspect', 'Urine - Urobilinogen', 'Urine - Crystals', 'Urine - Color']].isna(), dataset[['Urine - Aspect', 'Urine - Urobilinogen', 'Urine - Crystals', 'Urine - Color']])"
   ]
  },
  {
   "cell_type": "code",
   "execution_count": 21,
   "metadata": {},
   "outputs": [
    {
     "data": {
      "text/plain": [
       "Patient ID\n",
       "44477f75e8169d2    False\n",
       "126e9dd13932f68    False\n",
       "a46b4402a0e5696    False\n",
       "f7d619a94f97c45    False\n",
       "d9e41465789c2b5    False\n",
       "                   ...  \n",
       "ae66feb9e4dc3a0    False\n",
       "517c2834024f3ea    False\n",
       "5c57d6037fe266d    False\n",
       "c20c44766f28291     True\n",
       "2697fdccbfeb7f7    False\n",
       "Name: Urine - Aspect, Length: 5644, dtype: bool"
      ]
     },
     "execution_count": 21,
     "metadata": {},
     "output_type": "execute_result"
    }
   ],
   "source": [
    "dataset['Urine - Aspect'].notnull()"
   ]
  },
  {
   "cell_type": "code",
   "execution_count": 22,
   "metadata": {},
   "outputs": [
    {
     "data": {
      "text/html": [
       "<div>\n",
       "<style scoped>\n",
       "    .dataframe tbody tr th:only-of-type {\n",
       "        vertical-align: middle;\n",
       "    }\n",
       "\n",
       "    .dataframe tbody tr th {\n",
       "        vertical-align: top;\n",
       "    }\n",
       "\n",
       "    .dataframe thead th {\n",
       "        text-align: right;\n",
       "    }\n",
       "</style>\n",
       "<table border=\"1\" class=\"dataframe\">\n",
       "  <thead>\n",
       "    <tr style=\"text-align: right;\">\n",
       "      <th></th>\n",
       "      <th>Urine - Aspect</th>\n",
       "      <th>Urine - pH</th>\n",
       "      <th>Urine - Urobilinogen</th>\n",
       "      <th>Urine - Leukocytes</th>\n",
       "      <th>Urine - Crystals</th>\n",
       "      <th>Urine - Color</th>\n",
       "    </tr>\n",
       "    <tr>\n",
       "      <th>Patient ID</th>\n",
       "      <th></th>\n",
       "      <th></th>\n",
       "      <th></th>\n",
       "      <th></th>\n",
       "      <th></th>\n",
       "      <th></th>\n",
       "    </tr>\n",
       "  </thead>\n",
       "  <tbody>\n",
       "    <tr>\n",
       "      <th>44477f75e8169d2</th>\n",
       "      <td>NaN</td>\n",
       "      <td>NaN</td>\n",
       "      <td>NaN</td>\n",
       "      <td>NaN</td>\n",
       "      <td>NaN</td>\n",
       "      <td>NaN</td>\n",
       "    </tr>\n",
       "    <tr>\n",
       "      <th>126e9dd13932f68</th>\n",
       "      <td>NaN</td>\n",
       "      <td>NaN</td>\n",
       "      <td>NaN</td>\n",
       "      <td>NaN</td>\n",
       "      <td>NaN</td>\n",
       "      <td>NaN</td>\n",
       "    </tr>\n",
       "    <tr>\n",
       "      <th>a46b4402a0e5696</th>\n",
       "      <td>NaN</td>\n",
       "      <td>NaN</td>\n",
       "      <td>NaN</td>\n",
       "      <td>NaN</td>\n",
       "      <td>NaN</td>\n",
       "      <td>NaN</td>\n",
       "    </tr>\n",
       "    <tr>\n",
       "      <th>f7d619a94f97c45</th>\n",
       "      <td>NaN</td>\n",
       "      <td>NaN</td>\n",
       "      <td>NaN</td>\n",
       "      <td>NaN</td>\n",
       "      <td>NaN</td>\n",
       "      <td>NaN</td>\n",
       "    </tr>\n",
       "    <tr>\n",
       "      <th>d9e41465789c2b5</th>\n",
       "      <td>NaN</td>\n",
       "      <td>NaN</td>\n",
       "      <td>NaN</td>\n",
       "      <td>NaN</td>\n",
       "      <td>NaN</td>\n",
       "      <td>NaN</td>\n",
       "    </tr>\n",
       "    <tr>\n",
       "      <th>...</th>\n",
       "      <td>...</td>\n",
       "      <td>...</td>\n",
       "      <td>...</td>\n",
       "      <td>...</td>\n",
       "      <td>...</td>\n",
       "      <td>...</td>\n",
       "    </tr>\n",
       "    <tr>\n",
       "      <th>ae66feb9e4dc3a0</th>\n",
       "      <td>NaN</td>\n",
       "      <td>NaN</td>\n",
       "      <td>NaN</td>\n",
       "      <td>NaN</td>\n",
       "      <td>NaN</td>\n",
       "      <td>NaN</td>\n",
       "    </tr>\n",
       "    <tr>\n",
       "      <th>517c2834024f3ea</th>\n",
       "      <td>NaN</td>\n",
       "      <td>NaN</td>\n",
       "      <td>NaN</td>\n",
       "      <td>NaN</td>\n",
       "      <td>NaN</td>\n",
       "      <td>NaN</td>\n",
       "    </tr>\n",
       "    <tr>\n",
       "      <th>5c57d6037fe266d</th>\n",
       "      <td>NaN</td>\n",
       "      <td>NaN</td>\n",
       "      <td>NaN</td>\n",
       "      <td>NaN</td>\n",
       "      <td>NaN</td>\n",
       "      <td>NaN</td>\n",
       "    </tr>\n",
       "    <tr>\n",
       "      <th>c20c44766f28291</th>\n",
       "      <td>1</td>\n",
       "      <td>5</td>\n",
       "      <td>1</td>\n",
       "      <td>29000</td>\n",
       "      <td>0</td>\n",
       "      <td>4</td>\n",
       "    </tr>\n",
       "    <tr>\n",
       "      <th>2697fdccbfeb7f7</th>\n",
       "      <td>NaN</td>\n",
       "      <td>NaN</td>\n",
       "      <td>NaN</td>\n",
       "      <td>NaN</td>\n",
       "      <td>NaN</td>\n",
       "      <td>NaN</td>\n",
       "    </tr>\n",
       "  </tbody>\n",
       "</table>\n",
       "<p>5644 rows × 6 columns</p>\n",
       "</div>"
      ],
      "text/plain": [
       "                Urine - Aspect Urine - pH Urine - Urobilinogen  \\\n",
       "Patient ID                                                       \n",
       "44477f75e8169d2            NaN        NaN                  NaN   \n",
       "126e9dd13932f68            NaN        NaN                  NaN   \n",
       "a46b4402a0e5696            NaN        NaN                  NaN   \n",
       "f7d619a94f97c45            NaN        NaN                  NaN   \n",
       "d9e41465789c2b5            NaN        NaN                  NaN   \n",
       "...                        ...        ...                  ...   \n",
       "ae66feb9e4dc3a0            NaN        NaN                  NaN   \n",
       "517c2834024f3ea            NaN        NaN                  NaN   \n",
       "5c57d6037fe266d            NaN        NaN                  NaN   \n",
       "c20c44766f28291              1          5                    1   \n",
       "2697fdccbfeb7f7            NaN        NaN                  NaN   \n",
       "\n",
       "                Urine - Leukocytes Urine - Crystals Urine - Color  \n",
       "Patient ID                                                         \n",
       "44477f75e8169d2                NaN              NaN           NaN  \n",
       "126e9dd13932f68                NaN              NaN           NaN  \n",
       "a46b4402a0e5696                NaN              NaN           NaN  \n",
       "f7d619a94f97c45                NaN              NaN           NaN  \n",
       "d9e41465789c2b5                NaN              NaN           NaN  \n",
       "...                            ...              ...           ...  \n",
       "ae66feb9e4dc3a0                NaN              NaN           NaN  \n",
       "517c2834024f3ea                NaN              NaN           NaN  \n",
       "5c57d6037fe266d                NaN              NaN           NaN  \n",
       "c20c44766f28291              29000                0             4  \n",
       "2697fdccbfeb7f7                NaN              NaN           NaN  \n",
       "\n",
       "[5644 rows x 6 columns]"
      ]
     },
     "execution_count": 22,
     "metadata": {},
     "output_type": "execute_result"
    }
   ],
   "source": [
    "dataset.select_dtypes(object)"
   ]
  },
  {
   "cell_type": "code",
   "execution_count": 24,
   "metadata": {},
   "outputs": [
    {
     "data": {
      "text/plain": [
       "Patient ID\n",
       "a4b2116e0689f54    1\n",
       "5c56087861a9b73    2\n",
       "630b1c03ae8e70a    0\n",
       "d3adcbd9067a5f4    1\n",
       "512190ee63c1252    1\n",
       "                  ..\n",
       "07484308b83fba7    1\n",
       "ecb3e2ccd93f6d5    1\n",
       "acd761fe16b5d0f    1\n",
       "db77903261ab6d0    1\n",
       "c20c44766f28291    1\n",
       "Name: Urine - Aspect, Length: 70, dtype: object"
      ]
     },
     "execution_count": 24,
     "metadata": {},
     "output_type": "execute_result"
    }
   ],
   "source": [
    "mask = (dataset['Urine - Aspect'].notnull()) \n",
    "\n",
    "dataset[mask]['Urine - Aspect']"
   ]
  },
  {
   "cell_type": "markdown",
   "metadata": {},
   "source": [
    "## Analysis of missing data"
   ]
  },
  {
   "cell_type": "code",
   "execution_count": 24,
   "metadata": {
    "scrolled": false
   },
   "outputs": [
    {
     "name": "stdout",
     "output_type": "stream",
     "text": [
      "<class 'pandas.core.frame.DataFrame'>\n",
      "Index: 5644 entries, 44477f75e8169d2 to 2697fdccbfeb7f7\n",
      "Data columns (total 110 columns):\n",
      " #   Column                                                 Non-Null Count  Dtype  \n",
      "---  ------                                                 --------------  -----  \n",
      " 0   Patient age quantile                                   5644 non-null   int64  \n",
      " 1   SARS-Cov-2 exam result                                 5644 non-null   int64  \n",
      " 2   Patient addmited to regular ward (1=yes, 0=no)         5644 non-null   int64  \n",
      " 3   Patient addmited to semi-intensive unit (1=yes, 0=no)  5644 non-null   int64  \n",
      " 4   Patient addmited to intensive care unit (1=yes, 0=no)  5644 non-null   int64  \n",
      " 5   Hematocrit                                             603 non-null    float64\n",
      " 6   Hemoglobin                                             603 non-null    float64\n",
      " 7   Platelets                                              602 non-null    float64\n",
      " 8   Mean platelet volume                                   599 non-null    float64\n",
      " 9   Red blood Cells                                        602 non-null    float64\n",
      " 10  Lymphocytes                                            602 non-null    float64\n",
      " 11  Mean corpuscular hemoglobin concentration (MCHC)       602 non-null    float64\n",
      " 12  Leukocytes                                             602 non-null    float64\n",
      " 13  Basophils                                              602 non-null    float64\n",
      " 14  Mean corpuscular hemoglobin (MCH)                      602 non-null    float64\n",
      " 15  Eosinophils                                            602 non-null    float64\n",
      " 16  Mean corpuscular volume (MCV)                          602 non-null    float64\n",
      " 17  Monocytes                                              601 non-null    float64\n",
      " 18  Red blood cell distribution width (RDW)                602 non-null    float64\n",
      " 19  Serum Glucose                                          208 non-null    float64\n",
      " 20  Respiratory Syncytial Virus                            1354 non-null   float64\n",
      " 21  Influenza A                                            1354 non-null   float64\n",
      " 22  Influenza B                                            1354 non-null   float64\n",
      " 23  Parainfluenza 1                                        1352 non-null   float64\n",
      " 24  CoronavirusNL63                                        1352 non-null   float64\n",
      " 25  Rhinovirus/Enterovirus                                 1352 non-null   float64\n",
      " 26  Mycoplasma pneumoniae                                  0 non-null      float64\n",
      " 27  Coronavirus HKU1                                       1352 non-null   float64\n",
      " 28  Parainfluenza 3                                        1352 non-null   float64\n",
      " 29  Chlamydophila pneumoniae                               1352 non-null   float64\n",
      " 30  Adenovirus                                             1352 non-null   float64\n",
      " 31  Parainfluenza 4                                        1352 non-null   float64\n",
      " 32  Coronavirus229E                                        1352 non-null   float64\n",
      " 33  CoronavirusOC43                                        1352 non-null   float64\n",
      " 34  Inf A H1N1 2009                                        1352 non-null   float64\n",
      " 35  Bordetella pertussis                                   1352 non-null   float64\n",
      " 36  Metapneumovirus                                        1352 non-null   float64\n",
      " 37  Parainfluenza 2                                        1352 non-null   float64\n",
      " 38  Neutrophils                                            513 non-null    float64\n",
      " 39  Urea                                                   397 non-null    float64\n",
      " 40  Proteina C reativa mg/dL                               506 non-null    float64\n",
      " 41  Creatinine                                             424 non-null    float64\n",
      " 42  Potassium                                              371 non-null    float64\n",
      " 43  Sodium                                                 370 non-null    float64\n",
      " 44  Influenza B, rapid test                                820 non-null    float64\n",
      " 45  Influenza A, rapid test                                820 non-null    float64\n",
      " 46  Alanine transaminase                                   225 non-null    float64\n",
      " 47  Aspartate transaminase                                 226 non-null    float64\n",
      " 48  Gamma-glutamyltransferase                              153 non-null    float64\n",
      " 49  Total Bilirubin                                        182 non-null    float64\n",
      " 50  Direct Bilirubin                                       182 non-null    float64\n",
      " 51  Indirect Bilirubin                                     182 non-null    float64\n",
      " 52  Alkaline phosphatase                                   144 non-null    float64\n",
      " 53  Ionized calcium                                        50 non-null     float64\n",
      " 54  Strepto A                                              331 non-null    float64\n",
      " 55  Magnesium                                              40 non-null     float64\n",
      " 56  pCO2 (venous blood gas analysis)                       136 non-null    float64\n",
      " 57  Hb saturation (venous blood gas analysis)              136 non-null    float64\n",
      " 58  Base excess (venous blood gas analysis)                136 non-null    float64\n",
      " 59  pO2 (venous blood gas analysis)                        136 non-null    float64\n",
      " 60  Fio2 (venous blood gas analysis)                       1 non-null      float64\n",
      " 61  Total CO2 (venous blood gas analysis)                  136 non-null    float64\n",
      " 62  pH (venous blood gas analysis)                         136 non-null    float64\n",
      " 63  HCO3 (venous blood gas analysis)                       136 non-null    float64\n",
      " 64  Rods #                                                 97 non-null     float64\n",
      " 65  Segmented                                              97 non-null     float64\n",
      " 66  Promyelocytes                                          97 non-null     float64\n",
      " 67  Metamyelocytes                                         97 non-null     float64\n",
      " 68  Myelocytes                                             97 non-null     float64\n",
      " 69  Myeloblasts                                            97 non-null     float64\n",
      " 70  Urine - Esterase                                       59 non-null     object \n",
      " 71  Urine - Aspect                                         70 non-null     object \n",
      " 72  Urine - pH                                             69 non-null     object \n",
      " 73  Urine - Hemoglobin                                     69 non-null     object \n",
      " 74  Urine - Bile pigments                                  69 non-null     object \n",
      " 75  Urine - Ketone Bodies                                  56 non-null     object \n",
      " 76  Urine - Nitrite                                        0 non-null      float64\n",
      " 77  Urine - Density                                        70 non-null     float64\n",
      " 78  Urine - Urobilinogen                                   68 non-null     object \n",
      " 79  Urine - Protein                                        59 non-null     object \n",
      " 80  Urine - Sugar                                          0 non-null      float64\n",
      " 81  Urine - Leukocytes                                     70 non-null     object \n",
      " 82  Urine - Crystals                                       70 non-null     object \n",
      " 83  Urine - Red blood cells                                70 non-null     float64\n",
      " 84  Urine - Hyaline cylinders                              67 non-null     object \n",
      " 85  Urine - Granular cylinders                             69 non-null     object \n",
      " 86  Urine - Yeasts                                         70 non-null     object \n",
      " 87  Urine - Color                                          70 non-null     object \n",
      " 88  Partial thromboplastin time (PTT)                      0 non-null      float64\n",
      " 89  Relationship (Patient/Normal)                          91 non-null     float64\n",
      " 90  International normalized ratio (INR)                   133 non-null    float64\n",
      " 91  Lactic Dehydrogenase                                   101 non-null    float64\n",
      " 92  Prothrombin time (PT), Activity                        0 non-null      float64\n",
      " 93  Vitamin B12                                            3 non-null      float64\n",
      " 94  Creatine phosphokinase (CPK)                           104 non-null    float64\n",
      " 95  Ferritin                                               23 non-null     float64\n",
      " 96  Arterial Lactic Acid                                   27 non-null     float64\n",
      " 97  Lipase dosage                                          8 non-null      float64\n",
      " 98  D-Dimer                                                0 non-null      float64\n",
      " 99  Albumin                                                13 non-null     float64\n",
      " 100 Hb saturation (arterial blood gases)                   27 non-null     float64\n",
      " 101 pCO2 (arterial blood gas analysis)                     27 non-null     float64\n",
      " 102 Base excess (arterial blood gas analysis)              27 non-null     float64\n",
      " 103 pH (arterial blood gas analysis)                       27 non-null     float64\n",
      " 104 Total CO2 (arterial blood gas analysis)                27 non-null     float64\n",
      " 105 HCO3 (arterial blood gas analysis)                     27 non-null     float64\n",
      " 106 pO2 (arterial blood gas analysis)                      27 non-null     float64\n",
      " 107 Arteiral Fio2                                          20 non-null     float64\n",
      " 108 Phosphor                                               20 non-null     float64\n",
      " 109 ctO2 (arterial blood gas analysis)                     27 non-null     float64\n",
      "dtypes: float64(91), int64(5), object(14)\n",
      "memory usage: 4.8+ MB\n"
     ]
    }
   ],
   "source": [
    "dataset.info(max_cols=111)"
   ]
  },
  {
   "cell_type": "code",
   "execution_count": null,
   "metadata": {},
   "outputs": [],
   "source": [
    "def plot_missing_data(missing_data, title):\n",
    "    f, ax = plt.subplots(figsize=(15, 6))\n",
    "    plt.xticks(rotation='90')\n",
    "    sns.barplot(x=missing_data.index, y=missing_data['Percent'])\n",
    "    plt.xlabel('Features', fontsize=15)\n",
    "    plt.ylabel('Percent of missing values', fontsize=15)\n",
    "    plt.title(title, fontsize=15)"
   ]
  },
  {
   "cell_type": "code",
   "execution_count": null,
   "metadata": {},
   "outputs": [],
   "source": [
    "total = dataset.isnull().sum().sort_values(ascending=False)\n",
    "percent = (dataset.isnull().sum()/dataset.isnull().count()).sort_values(ascending=False)\n",
    "missing_data = pd.concat([total, percent], axis=1, keys=['Total', 'Percent'])\n",
    "plot_missing_data(missing_data, 'Percent missing data by feature')\n",
    "missing_data.head(10)"
   ]
  },
  {
   "cell_type": "code",
   "execution_count": null,
   "metadata": {},
   "outputs": [],
   "source": [
    "columns_to_exclude = missing_data.index[missing_data['Percent'] > 0.998].tolist()\n",
    "dataset.drop(columns=columns_to_exclude, inplace=True)"
   ]
  },
  {
   "cell_type": "code",
   "execution_count": null,
   "metadata": {},
   "outputs": [],
   "source": [
    "dataset_positive = dataset[dataset['SARS-Cov-2 exam result'] == 1]\n",
    "\n",
    "total_positive = dataset_positive.isnull().sum().sort_values(ascending=False)\n",
    "percent_positive = (dataset_positive.isnull().sum()/dataset_positive.isnull().count()).sort_values(ascending=False)\n",
    "missing_data_positive = pd.concat([total_positive, percent_positive], axis=1, keys=['Total', 'Percent'])\n",
    "\n",
    "plot_missing_data(missing_data_positive, 'Percent positive missing data by feature')\n",
    "missing_data_positive.head(10)"
   ]
  },
  {
   "cell_type": "code",
   "execution_count": null,
   "metadata": {
    "scrolled": false
   },
   "outputs": [],
   "source": [
    "dataset_negative = dataset[dataset['SARS-Cov-2 exam result'] == 0]\n",
    "\n",
    "total_negative = dataset_negative.isnull().sum().sort_values(ascending=False)\n",
    "percent_negative = (dataset_negative.isnull().sum()/dataset_negative.isnull().count()).sort_values(ascending=False)\n",
    "missing_data_negative = pd.concat([total_negative, percent_negative], axis=1, keys=['Total', 'Percent'])\n",
    "\n",
    "plot_missing_data(missing_data_negative, 'Percent negative missing data by feature')\n",
    "missing_data_negative.head(10)"
   ]
  },
  {
   "cell_type": "code",
   "execution_count": null,
   "metadata": {},
   "outputs": [],
   "source": [
    "dataset.drop(columns=['Albumin'], inplace=True)"
   ]
  },
  {
   "cell_type": "markdown",
   "metadata": {},
   "source": [
    "## Correlation Matrix"
   ]
  },
  {
   "cell_type": "code",
   "execution_count": null,
   "metadata": {},
   "outputs": [],
   "source": [
    "corrmat = abs(dataset.corr())"
   ]
  },
  {
   "cell_type": "code",
   "execution_count": null,
   "metadata": {},
   "outputs": [],
   "source": [
    "# Correlation with output variable\n",
    "cor_target = corrmat[\"SARS-Cov-2 exam result\"]\n",
    "# Selecting highly correlated features\n",
    "relevant_features = cor_target[cor_target>0.1].index.tolist()"
   ]
  },
  {
   "cell_type": "code",
   "execution_count": null,
   "metadata": {
    "scrolled": true
   },
   "outputs": [],
   "source": [
    "f, ax = plt.subplots(figsize=(16, 8))\n",
    "sns.heatmap(abs(dataset[relevant_features].corr().iloc[0:1, :]), yticklabels=[relevant_features[0]], xticklabels=relevant_features, vmin = 0.0, square=True, annot=True, vmax=1.0, cmap='RdPu')"
   ]
  },
  {
   "cell_type": "markdown",
   "metadata": {},
   "source": [
    "## Negative and Positive Cases"
   ]
  },
  {
   "cell_type": "code",
   "execution_count": null,
   "metadata": {},
   "outputs": [],
   "source": [
    "nof_positive_cases = len(dataset_positive.index)\n",
    "nof_negative_cases = len(dataset_negative.index)"
   ]
  },
  {
   "cell_type": "code",
   "execution_count": null,
   "metadata": {},
   "outputs": [],
   "source": [
    "fig1, ax1 = plt.subplots()\n",
    "ax1.pie([nof_positive_cases, nof_negative_cases], labels=['Positive cases', 'Negative cases'], autopct='%1.1f%%', startangle=90, colors=['#c0ffd5', '#ffc0cb'])\n",
    "ax1.axis('equal')  # Equal aspect ratio ensures that pie is drawn as a circle."
   ]
  }
 ],
 "metadata": {
  "kernelspec": {
   "display_name": "Python 3",
   "language": "python",
   "name": "python3"
  },
  "language_info": {
   "codemirror_mode": {
    "name": "ipython",
    "version": 3
   },
   "file_extension": ".py",
   "mimetype": "text/x-python",
   "name": "python",
   "nbconvert_exporter": "python",
   "pygments_lexer": "ipython3",
   "version": "3.7.6"
  }
 },
 "nbformat": 4,
 "nbformat_minor": 4
}
